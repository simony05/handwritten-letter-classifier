{
  "cells": [
    {
      "cell_type": "code",
      "execution_count": 1,
      "metadata": {
        "colab": {
          "base_uri": "https://localhost:8080/"
        },
        "id": "UM2tjJ0l1qry",
        "outputId": "67b733ff-edd1-4bfb-f142-773a425f25a4"
      },
      "outputs": [
        {
          "output_type": "stream",
          "name": "stdout",
          "text": [
            "Collecting emnist\n",
            "  Downloading emnist-0.0-py3-none-any.whl (7.3 kB)\n",
            "Requirement already satisfied: numpy in /usr/local/lib/python3.10/dist-packages (from emnist) (1.23.5)\n",
            "Requirement already satisfied: requests in /usr/local/lib/python3.10/dist-packages (from emnist) (2.31.0)\n",
            "Requirement already satisfied: tqdm in /usr/local/lib/python3.10/dist-packages (from emnist) (4.66.1)\n",
            "Requirement already satisfied: charset-normalizer<4,>=2 in /usr/local/lib/python3.10/dist-packages (from requests->emnist) (3.3.0)\n",
            "Requirement already satisfied: idna<4,>=2.5 in /usr/local/lib/python3.10/dist-packages (from requests->emnist) (3.4)\n",
            "Requirement already satisfied: urllib3<3,>=1.21.1 in /usr/local/lib/python3.10/dist-packages (from requests->emnist) (2.0.6)\n",
            "Requirement already satisfied: certifi>=2017.4.17 in /usr/local/lib/python3.10/dist-packages (from requests->emnist) (2023.7.22)\n",
            "Installing collected packages: emnist\n",
            "Successfully installed emnist-0.0\n"
          ]
        }
      ],
      "source": [
        "!pip install emnist"
      ]
    },
    {
      "cell_type": "code",
      "source": [
        "import numpy as np\n",
        "import tensorflow as tf\n",
        "from keras import layers, models\n",
        "from keras.layers import BatchNormalization\n",
        "from keras.optimizers import Adam\n",
        "import matplotlib.pyplot as plt\n",
        "from keras.preprocessing.image import load_img\n",
        "from keras.preprocessing.image import img_to_array"
      ],
      "metadata": {
        "id": "SgiiXZ3N0cdo"
      },
      "execution_count": 2,
      "outputs": []
    },
    {
      "cell_type": "code",
      "execution_count": 3,
      "metadata": {
        "colab": {
          "base_uri": "https://localhost:8080/"
        },
        "id": "h87mk_Zv9xTC",
        "outputId": "44b4968b-eecd-4bd3-c3b5-8a3383057a7d"
      },
      "outputs": [
        {
          "output_type": "stream",
          "name": "stderr",
          "text": [
            "Downloading emnist.zip: 536MB [00:14, 38.6MB/s]\n"
          ]
        },
        {
          "output_type": "stream",
          "name": "stdout",
          "text": [
            "(112800, 28, 28)\n",
            "(18800, 28, 28)\n"
          ]
        }
      ],
      "source": [
        "# Download EMNIST data\n",
        "from emnist import extract_training_samples, extract_test_samples\n",
        "train_images, train_labels = extract_training_samples('balanced')\n",
        "test_images, test_labels = extract_test_samples('balanced')\n",
        "print(train_images.shape)\n",
        "print(test_images.shape)"
      ]
    },
    {
      "cell_type": "code",
      "execution_count": 4,
      "metadata": {
        "id": "7CxtkiBD9__L"
      },
      "outputs": [],
      "source": [
        "# Preprocessing\n",
        "train_images, test_images = train_images / 255.0, test_images / 255.0 # Normalize values to be between 0 and 1\n",
        "train_images = train_images.reshape(-1, 28, 28, 1)\n",
        "test_images = test_images.reshape(-1, 28, 28, 1)"
      ]
    },
    {
      "cell_type": "code",
      "execution_count": 5,
      "metadata": {
        "colab": {
          "base_uri": "https://localhost:8080/"
        },
        "id": "ucLRUJklPG-s",
        "outputId": "71906d23-09fd-4a86-c500-807d55611b03"
      },
      "outputs": [
        {
          "output_type": "stream",
          "name": "stdout",
          "text": [
            "(112800, 28, 28, 1)\n"
          ]
        }
      ],
      "source": [
        "print(train_images.shape)"
      ]
    },
    {
      "cell_type": "code",
      "execution_count": 6,
      "metadata": {
        "id": "fmVjNXcs_1uV"
      },
      "outputs": [],
      "source": [
        "# Class names (47 total)\n",
        "class_name = ['0', '1', '2', '3', '4', '5', '6', '7', '8', '9',\n",
        "              'A', 'B', 'C', 'D', 'E', 'F', 'G', 'H', 'I', 'J', 'K', 'L', 'M', 'N', 'O', 'P', 'Q', 'R', 'S', 'T', 'U', 'V', 'W', 'X', 'Y', 'Z',\n",
        "              'a', 'b', 'c', 'd', 'e', 'f', 'g', 'h', 'n', 'q', 'r', 't']"
      ]
    },
    {
      "cell_type": "code",
      "execution_count": 7,
      "metadata": {
        "colab": {
          "base_uri": "https://localhost:8080/",
          "height": 466
        },
        "id": "g9uyHJy9-wks",
        "outputId": "881ca9c0-d830-4802-9081-0e6880a99716"
      },
      "outputs": [
        {
          "output_type": "stream",
          "name": "stdout",
          "text": [
            "15\n"
          ]
        },
        {
          "output_type": "display_data",
          "data": {
            "text/plain": [
              "<Figure size 640x480 with 1 Axes>"
            ],
            "image/png": "[encoded data removed]"
          },
          "metadata": {}
        }
      ],
      "source": [
        "# View a test image and its class\n",
        "index = 3\n",
        "plt.imshow(train_images[index] , cmap=plt.cm.binary)\n",
        "print(train_labels[index])\n",
        "plt.xlabel(class_name[train_labels[index]])\n",
        "plt.show()"
      ]
    },
    {
      "cell_type": "code",
      "execution_count": 8,
      "metadata": {
        "colab": {
          "base_uri": "https://localhost:8080/"
        },
        "id": "hhwx1LvNCmP0",
        "outputId": "61caa725-775e-49e6-93d9-8242591bf039"
      },
      "outputs": [
        {
          "output_type": "stream",
          "name": "stdout",
          "text": [
            "Model: \"sequential\"\n",
            "_________________________________________________________________\n",
            " Layer (type)                Output Shape              Param #   \n",
            "=================================================================\n",
            " conv2d (Conv2D)             (None, 28, 28, 32)        832       \n",
            "                                                                 \n",
            " batch_normalization (Batch  (None, 28, 28, 32)        128       \n",
            " Normalization)                                                  \n",
            "                                                                 \n",
            " max_pooling2d (MaxPooling2  (None, 14, 14, 32)        0         \n",
            " D)                                                              \n",
            "                                                                 \n",
            " conv2d_1 (Conv2D)           (None, 14, 14, 48)        38448     \n",
            "                                                                 \n",
            " batch_normalization_1 (Bat  (None, 14, 14, 48)        192       \n",
            " chNormalization)                                                \n",
            "                                                                 \n",
            " max_pooling2d_1 (MaxPoolin  (None, 7, 7, 48)          0         \n",
            " g2D)                                                            \n",
            "                                                                 \n",
            " conv2d_2 (Conv2D)           (None, 7, 7, 64)          76864     \n",
            "                                                                 \n",
            " batch_normalization_2 (Bat  (None, 7, 7, 64)          256       \n",
            " chNormalization)                                                \n",
            "                                                                 \n",
            " max_pooling2d_2 (MaxPoolin  (None, 3, 3, 64)          0         \n",
            " g2D)                                                            \n",
            "                                                                 \n",
            " flatten (Flatten)           (None, 576)               0         \n",
            "                                                                 \n",
            " dense (Dense)               (None, 256)               147712    \n",
            "                                                                 \n",
            " dense_1 (Dense)             (None, 96)                24672     \n",
            "                                                                 \n",
            " batch_normalization_3 (Bat  (None, 96)                384       \n",
            " chNormalization)                                                \n",
            "                                                                 \n",
            " dense_2 (Dense)             (None, 47)                4559      \n",
            "                                                                 \n",
            "=================================================================\n",
            "Total params: 294047 (1.12 MB)\n",
            "Trainable params: 293567 (1.12 MB)\n",
            "Non-trainable params: 480 (1.88 KB)\n",
            "_________________________________________________________________\n"
          ]
        }
      ],
      "source": [
        "#CNN model\n",
        "model = models.Sequential()\n",
        "model.add(layers.Conv2D(32, (5, 5), padding='same', activation='tanh', input_shape=(28, 28, 1)))\n",
        "model.add(BatchNormalization())\n",
        "model.add(layers.MaxPooling2D((2, 2), strides=(2,2)))\n",
        "model.add(layers.Conv2D(48, (5, 5), padding='same', activation='tanh'))\n",
        "model.add(BatchNormalization())\n",
        "model.add(layers.MaxPooling2D((2, 2), strides=(2,2)))\n",
        "model.add(layers.Conv2D(64, (5, 5), padding='same', activation='tanh'))\n",
        "model.add(BatchNormalization())\n",
        "model.add(layers.MaxPooling2D((2, 2), strides=(2,2)))\n",
        "model.add(layers.Flatten()),\n",
        "model.add(layers.Dense(256, activation='tanh')),\n",
        "model.add(layers.Dense(96, activation='tanh')),\n",
        "model.add(BatchNormalization())\n",
        "model.add(layers.Dense(47, activation='softmax'))\n",
        "model.summary()"
      ]
    },
    {
      "cell_type": "code",
      "execution_count": 9,
      "metadata": {
        "colab": {
          "base_uri": "https://localhost:8080/"
        },
        "id": "t0wj8fYqDMby",
        "outputId": "cd9d3991-1be8-49e4-cd13-59a5f7a67a82"
      },
      "outputs": [
        {
          "output_type": "stream",
          "name": "stdout",
          "text": [
            "Epoch 1/10\n",
            "882/882 [==============================] - 341s 384ms/step - loss: 1.2199 - accuracy: 0.6860 - val_loss: 0.7026 - val_accuracy: 0.7987\n",
            "Epoch 2/10\n",
            "882/882 [==============================] - 343s 389ms/step - loss: 0.5587 - accuracy: 0.8331 - val_loss: 0.5184 - val_accuracy: 0.8382\n",
            "Epoch 3/10\n",
            "882/882 [==============================] - 341s 386ms/step - loss: 0.4373 - accuracy: 0.8594 - val_loss: 0.4673 - val_accuracy: 0.8488\n",
            "Epoch 4/10\n",
            "882/882 [==============================] - 340s 386ms/step - loss: 0.3794 - accuracy: 0.8725 - val_loss: 0.4280 - val_accuracy: 0.8576\n",
            "Epoch 5/10\n",
            "882/882 [==============================] - 340s 385ms/step - loss: 0.3437 - accuracy: 0.8817 - val_loss: 0.4162 - val_accuracy: 0.8583\n",
            "Epoch 6/10\n",
            "882/882 [==============================] - 337s 382ms/step - loss: 0.3172 - accuracy: 0.8888 - val_loss: 0.3955 - val_accuracy: 0.8618\n",
            "Epoch 7/10\n",
            "882/882 [==============================] - 333s 377ms/step - loss: 0.2964 - accuracy: 0.8952 - val_loss: 0.3933 - val_accuracy: 0.8662\n",
            "Epoch 8/10\n",
            "882/882 [==============================] - 338s 384ms/step - loss: 0.2770 - accuracy: 0.9002 - val_loss: 0.3789 - val_accuracy: 0.8685\n",
            "Epoch 9/10\n",
            "882/882 [==============================] - 339s 384ms/step - loss: 0.2603 - accuracy: 0.9062 - val_loss: 0.3838 - val_accuracy: 0.8693\n",
            "Epoch 10/10\n",
            "882/882 [==============================] - 346s 392ms/step - loss: 0.2467 - accuracy: 0.9105 - val_loss: 0.3791 - val_accuracy: 0.8714\n"
          ]
        }
      ],
      "source": [
        "model.compile(optimizer=Adam(learning_rate=1e-4),\n",
        "              loss='sparse_categorical_crossentropy',\n",
        "              metrics=['accuracy'])\n",
        "# About 0.91 accuracy after 10 epochs\n",
        "history = model.fit(train_images,\n",
        "                    train_labels,\n",
        "                    epochs=10,\n",
        "                    batch_size=128,\n",
        "                    verbose=1,\n",
        "                    validation_split=0.2,\n",
        "                    validation_data=(test_images, test_labels))"
      ]
    },
    {
      "cell_type": "code",
      "execution_count": 10,
      "metadata": {
        "id": "XENXecwfYfsG"
      },
      "outputs": [],
      "source": [
        "# Loading images and processing into format\n",
        "def load(file):\n",
        " image = load_img(file, grayscale=True, target_size=(28, 28))\n",
        " image = np.invert(image)\n",
        " image = img_to_array(image)\n",
        " image = image.reshape(-1, 28, 28, 1)\n",
        " image = image.astype('float32') / 255.0\n",
        " return image"
      ]
    },
    {
      "cell_type": "code",
      "execution_count": 14,
      "metadata": {
        "colab": {
          "base_uri": "https://localhost:8080/",
          "height": 482
        },
        "id": "yyOurOlBcHiz",
        "outputId": "25584728-4ccf-4632-ffb4-6e46801d2088"
      },
      "outputs": [
        {
          "output_type": "display_data",
          "data": {
            "text/plain": [
              "<Figure size 640x480 with 1 Axes>"
            ],
            "image/png": "[encoded data removed]"
          },
          "metadata": {}
        },
        {
          "output_type": "stream",
          "name": "stdout",
          "text": [
            "1/1 [==============================] - 0s 23ms/step\n",
            "28\n",
            "S\n"
          ]
        }
      ],
      "source": [
        "# Predict an image file\n",
        "image = load('s.png')\n",
        "plt.imshow(image.reshape(28, 28, 1), cmap = plt.cm.binary)\n",
        "plt.show()\n",
        "prediction = model.predict(image)\n",
        "digit = np.argmax(prediction) # Choose class with highest probability\n",
        "print(digit)\n",
        "print(class_name[digit])"
      ]
    }
  ],
  "metadata": {
    "colab": {
      "provenance": [],
      "authorship_tag": "ABX9TyP6/W0kUGQh6wxALAInE6h1"
    },
    "kernelspec": {
      "display_name": "Python 3",
      "name": "python3"
    },
    "language_info": {
      "name": "python"
    }
  },
  "nbformat": 4,
  "nbformat_minor": 0
}